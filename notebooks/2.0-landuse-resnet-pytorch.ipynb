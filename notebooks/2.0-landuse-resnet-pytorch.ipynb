{
 "cells": [
  {
   "cell_type": "code",
   "execution_count": null,
   "metadata": {},
   "outputs": [],
   "source": [
    "import torch\n",
    "import numpy as np\n",
    "\n",
    "\n",
    "import torchvision\n",
    "from torchvision import models\n",
    "\n",
    "import torch.nn as nn\n",
    "\n",
    "from skimage import io\n",
    "\n",
    "import random\n",
    "import time\n",
    "import os.path\n",
    "\n",
    "\n",
    "import matplotlib.pyplot as plt\n",
    "from IPython.display import clear_output\n",
    "\n",
    "\n",
    "from sklearn.metrics import accuracy_score\n",
    "from skimage.transform import resize\n",
    "from sklearn.model_selection import train_test_split\n",
    "from sklearn.metrics import f1_score\n",
    "\n",
    "\n",
    "import torch.optim as optim\n",
    "import torch.optim.lr_scheduler\n",
    "import torch.nn.init\n",
    "from torch.autograd import Variable\n"
   ]
  },
  {
   "cell_type": "code",
   "execution_count": null,
   "metadata": {},
   "outputs": [],
   "source": [
    "import sys\n",
    "sys.path.append('../')"
   ]
  },
  {
   "cell_type": "code",
   "execution_count": null,
   "metadata": {},
   "outputs": [],
   "source": [
    "import src"
   ]
  },
  {
   "cell_type": "code",
   "execution_count": null,
   "metadata": {},
   "outputs": [],
   "source": [
    "#src.make_dataloaders\n",
    "#src.img_loader\n",
    "#src.train\n",
    "#src.Load_model\n",
    "#src.validation"
   ]
  },
  {
   "cell_type": "code",
   "execution_count": null,
   "metadata": {},
   "outputs": [],
   "source": []
  },
  {
   "cell_type": "code",
   "execution_count": null,
   "metadata": {},
   "outputs": [],
   "source": [
    "def get_random_pos(img, window_shape = [55,55] ):\n",
    "    \"\"\" Extract of 2D random patch of shape window_shape in the image \"\"\"\n",
    "    w, h = window_shape\n",
    "    W, H = img.shape[-2:]\n",
    "    x1 = random.randint(0, W - w - 1)\n",
    "    y1 = random.randint(0, H - h - 1)\n",
    "\n",
    "    return x1, x1 + w, y1, y1 + h #x1, x2, y1, y2\n",
    "\n",
    "def random_crop_area(img):\n",
    "    x1,x2,y1,y2 = get_random_pos(img)\n",
    "    Sen_Im = img[:, x1:x2,y1:y2]\n",
    "    return resize(Sen_Im,img.shape,anti_aliasing=True)\n",
    "\n",
    "\n",
    "\n",
    "def sigmoid(z):\n",
    "    z = np.clip(z, -100, np.inf)\n",
    "    return 1 / (1 + np.exp(-z))\n",
    "\n",
    "\n",
    "def cus_aug(data):\n",
    "    data = torch.rot90(data,random.randint(-3,3), dims=random.choice([[3,2],[2,3]]))\n",
    "    if random.random()>0.75:\n",
    "        data = torch.flip(data, dims = random.choice([[2,],[3,],[2,3]]))\n",
    "    pixmis = torch.empty_like(data).random_(data.shape[-1])\n",
    "    pixmis = torch.where(pixmis>(data.shape[-1]/8),torch.ones_like(data),torch.zeros_like(data))\n",
    "    return data* pixmis\n",
    "\n",
    "\n",
    "def accuracy(gt_S,pred_S):       \n",
    "    _, alp = torch.max(torch.from_numpy(pred_S), 1)\n",
    "    return accuracy_score(gt_S,np.asarray(alp)) "
   ]
  },
  {
   "cell_type": "code",
   "execution_count": null,
   "metadata": {},
   "outputs": [],
   "source": [
    "data_folder = 'C:/dev/EuroSAT/'\n",
    "root = os.path.join(data_folder, '2750/')"
   ]
  },
  {
   "cell_type": "code",
   "execution_count": null,
   "metadata": {},
   "outputs": [],
   "source": [
    "lr = 0.001             \n",
    "milestones = [50,75,90] \n",
    "epochs = 100            "
   ]
  },
  {
   "cell_type": "code",
   "execution_count": null,
   "metadata": {},
   "outputs": [],
   "source": [
    "device = torch.device(\"cuda\" if torch.cuda.is_available() else \"cpu\")\n"
   ]
  },
  {
   "cell_type": "code",
   "execution_count": null,
   "metadata": {},
   "outputs": [],
   "source": [
    "if __name__ == '__main__':\n",
    "    torch.manual_seed(0)\n",
    "    np.random.seed(0)\n",
    "    torch.cuda.manual_seed(0)\n",
    "    random.seed(0)\n",
    "    \n",
    "    print(\"pytorch version\", torch.__version__)\n",
    "    \n",
    "    criteria = torch.nn.CrossEntropyLoss()\n",
    "    net = src.Load_model(resnet_val=18, device = device)\n",
    "    train_loader, val_loader = src.make_dataloaders(root)\n",
    "    \n",
    "    net=net.to(device) # Move model to CPU\n",
    "    \n",
    "    optimizer = optim.Adam(net.parameters(), lr=lr, betas=(0.9, 0.999), eps=1e-08, weight_decay=0, amsgrad=False)\n",
    "    scheduler = optim.lr_scheduler.MultiStepLR(optimizer, milestones=milestones, gamma=0.1)\n"
   ]
  },
  {
   "cell_type": "code",
   "execution_count": null,
   "metadata": {},
   "outputs": [],
   "source": [
    "net = src.train(net, train_loader, val_loader, criteria, optimizer, epochs, scheduler)\n"
   ]
  }
 ],
 "metadata": {
  "kernelspec": {
   "display_name": "base",
   "language": "python",
   "name": "python3"
  },
  "language_info": {
   "codemirror_mode": {
    "name": "ipython",
    "version": 3
   },
   "file_extension": ".py",
   "mimetype": "text/x-python",
   "name": "python",
   "nbconvert_exporter": "python",
   "pygments_lexer": "ipython3",
   "version": "3.11.0"
  }
 },
 "nbformat": 4,
 "nbformat_minor": 2
}
