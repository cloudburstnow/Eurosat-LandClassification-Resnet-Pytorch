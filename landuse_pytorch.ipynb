{
 "cells": [
  {
   "cell_type": "code",
   "execution_count": null,
   "metadata": {},
   "outputs": [],
   "source": [
    "import torch\n",
    "import numpy as np\n",
    "\n",
    "\n",
    "import torchvision\n",
    "from torchvision import models\n",
    "\n",
    "import torch.nn as nn\n"
   ]
  },
  {
   "cell_type": "code",
   "execution_count": null,
   "metadata": {},
   "outputs": [],
   "source": [
    "device = torch.device(\"cuda\" if torch.cuda.is_available() else \"cpu\")\n"
   ]
  },
  {
   "cell_type": "code",
   "execution_count": null,
   "metadata": {},
   "outputs": [],
   "source": [
    "def iloader(path):\n",
    "    image = np.asarray((io.imread(path))/32000,dtype='float32')\n",
    "    return image.transpose(2,0,1)"
   ]
  },
  {
   "cell_type": "code",
   "execution_count": null,
   "metadata": {},
   "outputs": [],
   "source": [
    "def make_dataloaders():\n",
    "    \n",
    "    data = torchvision.datasets.DatasetFolder(root=root,loader = iloader, transform=None, extensions = 'jpg')\n",
    "    train_set, val_set = train_test_split(data, test_set = 0.1, stratify = data.targets)\n",
    "    \n",
    "    train_loader = torch.utils.data.DataLoader(train_set, batch_size=16, shuffle=True, num_workers=3, drop_last = True)\n",
    "    val_loader = torch.utils.data.DataLoader(val_set, batch_size=16, shuffle=True, num_workers=0, drop_last = True)\n",
    "\n",
    "    return train_loader, val_loader"
   ]
  },
  {
   "cell_type": "code",
   "execution_count": null,
   "metadata": {},
   "outputs": [],
   "source": [
    "def Load_model():\n",
    "    model_ft = models.resnet18()  # Using resnet18 during initial development\n",
    "    #model_ft = models.resnet50()  \n",
    "    num_ftrs = model_ft.fc.in_features\n",
    "    model_ft.fc = nn.Linear(num_ftrs, 10)\n",
    "    \n",
    "    inBands = 3\n",
    "\n",
    "    model_ft.conv1 = nn.Conv2d(inBands, 64, kernel_size=7, stride=2, padding = 3, bias = False)\n",
    "\n",
    "    print('Model Loaded')\n",
    "\n",
    "    return model_ft.to(device)"
   ]
  },
  {
   "cell_type": "code",
   "execution_count": null,
   "metadata": {},
   "outputs": [],
   "source": [
    "def accuracy(gt_S,pred_S):       \n",
    "    _, alp = torch.max(torch.from_numpy(pred_S), 1)\n",
    "    return accuracy_score(gt_S,np.asarray(alp))#np.mean(F1score)"
   ]
  },
  {
   "cell_type": "code",
   "execution_count": null,
   "metadata": {},
   "outputs": [],
   "source": [
    "def validation(model, test_,):\n",
    "    model.eval()\n",
    "    test_iter=0\n",
    "    with torch.no_grad():\n",
    "        for batch_idx, (data, target) in enumerate(test_):\n",
    "            data, target = cus_aug(Variable(data.to(device))), Variable(target.to(device)) # Move data and target to CPU\n",
    "            output = model(data)\n",
    "            _, pred = torch.max(output, 1)\n",
    "            pred = output.data.cpu().numpy()\n",
    "            gt = target.data.cpu().numpy()\n",
    "            if test_iter==0:\n",
    "                all_pred=pred\n",
    "                all_gt=gt\n",
    "            else:\n",
    "                all_pred=np.vstack((all_pred,pred))\n",
    "                all_gt  =np.vstack((all_gt,gt))\n",
    "\n",
    "            test_iter=test_iter+1\n",
    "        acc=accuracy(all_gt.reshape(all_gt.shape[0] * all_gt.shape[1]),all_pred)\n",
    "        model.train()\n",
    "        return acc"
   ]
  },
  {
   "cell_type": "code",
   "execution_count": null,
   "metadata": {},
   "outputs": [],
   "source": [
    "def get_random_pos(img, window_shape = [55,55] ):\n",
    "\n",
    "    w, h = window_shape\n",
    "    W, H = img.shape[-2:]\n",
    "    \n",
    "    x1 = random.randint(0, W - w - 1)\n",
    "    y1 = random.randint(0, H - h - 1)\n",
    "\n",
    "    return x1, x1 + w, y1, y1 + h \n",
    "\n",
    "def random_crop_area(img):\n",
    "    x1,x2,y1,y2 = get_random_pos(img)\n",
    "    Sen_Im = img[:, x1:x2,y1:y2]\n",
    "    return resize(Sen_Im,img.shape,anti_aliasing=True)\n",
    "\n",
    "def sigmoid(z):\n",
    "    return 1/(1+np.exp(-z))\n",
    "\n",
    "def cus_aug(data):\n",
    "    data = torch.rot90(data,random.randint(-3,3), dims=random.choice([[3,2],[2,3]]))\n",
    "    if random.random()>0.75:\n",
    "        data = torch.flip(data, dims = random.choice([[2,],[3,],[2,3]]))\n",
    "    pixmis = torch.empty_like(data).random_(data.shape[-1])\n",
    "    pixmis = torch.where(pixmis>(data.shape[-1]/8),torch.ones_like(data),torch.zeros_like(data))\n",
    "    return data* pixmis"
   ]
  }
 ],
 "metadata": {
  "language_info": {
   "name": "python"
  }
 },
 "nbformat": 4,
 "nbformat_minor": 2
}
